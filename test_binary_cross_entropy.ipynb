{
 "cells": [
  {
   "cell_type": "code",
   "execution_count": 1,
   "metadata": {
    "collapsed": true
   },
   "outputs": [],
   "source": [
    "import torch"
   ]
  },
  {
   "cell_type": "code",
   "execution_count": 2,
   "metadata": {
    "collapsed": true
   },
   "outputs": [],
   "source": [
    "ce=torch.nn.MultiLabelSoftMarginLoss() # Sigmoid + binary cross-entropy\r\n",
    "sig=torch.nn.Sigmoid()"
   ]
  },
  {
   "cell_type": "code",
   "execution_count": 3,
   "metadata": {},
   "outputs": [],
   "source": [
    "# set up activation & label\r\n",
    "a=torch.FloatTensor([[0.1, -0.1, 10, 50., 25., 12.5, 0, -12.5, -25., -50.]]) # activations\r\n",
    "y=torch.FloatTensor([[1.,    1., 0.,  0.,  0.,   0., 0.,   0.,   0.,   0.]]) # labels\r\n",
    "a=torch.autograd.Variable(a, requires_grad=True)\r\n",
    "y=torch.autograd.Variable(y, requires_grad=False)"
   ]
  },
  {
   "cell_type": "code",
   "execution_count": 4,
   "metadata": {},
   "outputs": [
    {
     "name": "stdout",
     "output_type": "stream",
     "text": [
      "Variable containing:\r\n",
      "\r\n",
      "Columns 0 to 5 \r\n",
      " 5.2498e-01  4.7502e-01  9.9995e-01  1.0000e+00  1.0000e+00  1.0000e+00\r\n",
      "\r\n",
      "Columns 6 to 9 \r\n",
      " 5.0000e-01  3.7266e-06  1.3888e-11  1.9287e-22\r\n",
      "[torch.FloatTensor of size 1x10]\r\n",
      "\r\n"
     ]
    }
   ],
   "source": [
    "f=sig(a)\r\n",
    "print(f)"
   ]
  },
  {
   "cell_type": "code",
   "execution_count": 5,
   "metadata": {},
   "outputs": [
    {
     "name": "stdout",
     "output_type": "stream",
     "text": [
      "Variable containing:\r\n",
      " 7.9836\r\n",
      "[torch.FloatTensor of size 1]\r\n",
      "\r\n"
     ]
    }
   ],
   "source": [
    "ce.zero_grad()\r\n",
    "l=ce(a,y)\r\n",
    "print(l)"
   ]
  },
  {
   "cell_type": "code",
   "execution_count": 6,
   "metadata": {},
   "outputs": [],
   "source": [
    "l.backward() # obtained gradient"
   ]
  },
  {
   "cell_type": "code",
   "execution_count": 9,
   "metadata": {},
   "outputs": [
    {
     "name": "stdout",
     "output_type": "stream",
     "text": [
      "(0, -0.04750208184123039)\r\n",
      "(1, -0.05249791964888573)\r\n",
      "(2, 0.099995456635952)\r\n",
      "(3, 0.0)\r\n",
      "(4, 0.0)\r\n",
      "(5, 0.09999960660934448)\r\n",
      "(6, 0.05000000074505806)\r\n",
      "(7, 3.726638340140198e-07)\r\n",
      "(8, 1.2955112243390188e-12)\r\n",
      "(9, 3.720075951787754e-33)\r\n"
     ]
    }
   ],
   "source": [
    "for i,g in enumerate(a.grad.data[0]): # obtained gradient\r\n",
    "    print((i,g))"
   ]
  },
  {
   "cell_type": "code",
   "execution_count": 10,
   "metadata": {},
   "outputs": [
    {
     "name": "stdout",
     "output_type": "stream",
     "text": [
      "(0, -0.04750208184123039)\r\n",
      "(1, -0.05249791592359543)\r\n",
      "(2, 0.099995456635952)\r\n",
      "(3, 0.10000000149011612)\r\n",
      "(4, 0.10000000149011612)\r\n",
      "(5, 0.09999962151050568)\r\n",
      "(6, 0.05000000074505806)\r\n",
      "(7, 3.726639192791481e-07)\r\n",
      "(8, 1.3887943529564128e-12)\r\n",
      "(9, 1.9287499249081747e-23)\r\n"
     ]
    }
   ],
   "source": [
    "ans=(f-y)/f.size(1) # correct answer\r\n",
    "for i,g in enumerate(ans.data[0]):\r\n",
    "    print((i,g))"
   ]
  },
  {
   "cell_type": "markdown",
   "metadata": {},
   "source": [
    "In                  #   0     1   2   3    4      5   6     7    8     9\r\n",
    "a=torch.FloatTensor([[0.1, -0.1, 10, 50., 25., 12.5, 0, -12.5, -25., -50.]]) # activations\r\n",
    "y=torch.FloatTensor([[ 1.,   1., 0.,  0.,  0.,   0., 0.,   0.,   0.,   0.]]) # labels\r\n",
    "\r\n",
    "For # 0, 2, 6, the garident is correct. \r\n",
    "For # 1, 5, 7, the different is subtle. \r\n",
    "For # 8, 9, there is a noticable difference. \r\n",
    "For # 3, 4, the gradient is completely wrong ( 0.0 vs 1/10 ). "
   ]
  },
  {
   "cell_type": "code",
   "execution_count": null,
   "metadata": {
    "collapsed": true
   },
   "outputs": [],
   "source": []
  }
 ],
 "metadata": {
  "kernelspec": {
   "display_name": "Python 2",
   "language": "python",
   "name": "python2"
  },
  "language_info": {
   "codemirror_mode": {
    "name": "ipython",
    "version": 2
   },
   "file_extension": ".py",
   "mimetype": "text/x-python",
   "name": "python",
   "nbconvert_exporter": "python",
   "pygments_lexer": "ipython2",
   "version": "2.7.5"
  }
 },
 "nbformat": 4,
 "nbformat_minor": 2
}
