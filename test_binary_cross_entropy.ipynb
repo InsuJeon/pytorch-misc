{
 "cells": [
  {
   "cell_type": "code",
   "execution_count": 1,
   "metadata": {},
   "outputs": [
    {
     "name": "stdout",
     "output_type": "stream",
     "text": [
      "0.1.12_2\n"
     ]
    }
   ],
   "source": [
    "import torch\n",
    "print(torch.__version__)"
   ]
  },
  {
   "cell_type": "code",
   "execution_count": 2,
   "metadata": {
    "collapsed": true
   },
   "outputs": [],
   "source": [
    "ce=torch.nn.MultiLabelSoftMarginLoss() # Sigmoid + binary cross-entropy\n\r",
    "sig=torch.nn.Sigmoid()"
   ]
  },
  {
   "cell_type": "code",
   "execution_count": 3,
   "metadata": {},
   "outputs": [],
   "source": [
    "# set up activation & label\n\r",
    "a=torch.FloatTensor([[0.1, -0.1, 10, 50., 25., 12.5, 0, -12.5, -25., -50.]]) # activations\n\r",
    "y=torch.FloatTensor([[1.,    1., 0.,  0.,  0.,   0., 0.,   0.,   0.,   0.]]) # labels\n\r",
    "a=torch.autograd.Variable(a, requires_grad=True)\n\r",
    "y=torch.autograd.Variable(y, requires_grad=False)"
   ]
  },
  {
   "cell_type": "code",
   "execution_count": 4,
   "metadata": {},
   "outputs": [
    {
     "name": "stdout",
     "output_type": "stream",
     "text": [
      "Variable containing:\n\r",
      "\n\r",
      "Columns 0 to 5 \n\r",
      " 5.2498e-01  4.7502e-01  9.9995e-01  1.0000e+00  1.0000e+00  1.0000e+00\n\r",
      "\n\r",
      "Columns 6 to 9 \n\r",
      " 5.0000e-01  3.7266e-06  1.3888e-11  1.9287e-22\n\r",
      "[torch.FloatTensor of size 1x10]\n\r",
      "\n\r"
     ]
    }
   ],
   "source": [
    "f=sig(a)\n\r",
    "print(f)"
   ]
  },
  {
   "cell_type": "code",
   "execution_count": 5,
   "metadata": {},
   "outputs": [
    {
     "name": "stdout",
     "output_type": "stream",
     "text": [
      "Variable containing:\n\r",
      " 7.9836\n\r",
      "[torch.FloatTensor of size 1]\n\r",
      "\n\r"
     ]
    }
   ],
   "source": [
    "ce.zero_grad()\n\r",
    "l=ce(a,y)\n\r",
    "print(l)"
   ]
  },
  {
   "cell_type": "code",
   "execution_count": 6,
   "metadata": {},
   "outputs": [],
   "source": [
    "l.backward() # obtained gradient"
   ]
  },
  {
   "cell_type": "code",
   "execution_count": 7,
   "metadata": {},
   "outputs": [
    {
     "name": "stdout",
     "output_type": "stream",
     "text": [
      "(0, -0.04750208184123039)\n\r",
      "(1, -0.05249791964888573)\n\r",
      "(2, 0.099995456635952)\n\r",
      "(3, 0.0)\n\r",
      "(4, 0.0)\n\r",
      "(5, 0.09999960660934448)\n\r",
      "(6, 0.05000000074505806)\n\r",
      "(7, 3.726638340140198e-07)\n\r",
      "(8, 1.2955112243390188e-12)\n\r",
      "(9, 3.720075951787754e-33)\n\r"
     ]
    }
   ],
   "source": [
    "for i,g in enumerate(a.grad.data[0]): # obtained gradient\n\r",
    "    print((i,g))"
   ]
  },
  {
   "cell_type": "code",
   "execution_count": 8,
   "metadata": {},
   "outputs": [
    {
     "name": "stdout",
     "output_type": "stream",
     "text": [
      "(0, -0.04750208184123039)\n\r",
      "(1, -0.05249791592359543)\n\r",
      "(2, 0.099995456635952)\n\r",
      "(3, 0.10000000149011612)\n\r",
      "(4, 0.10000000149011612)\n\r",
      "(5, 0.09999962151050568)\n\r",
      "(6, 0.05000000074505806)\n\r",
      "(7, 3.726639192791481e-07)\n\r",
      "(8, 1.3887943529564128e-12)\n\r",
      "(9, 1.9287499249081747e-23)\n\r"
     ]
    }
   ],
   "source": [
    "ans=(f-y)/f.size(1) # correct answer\n\r",
    "for i,g in enumerate(ans.data[0]):\n\r",
    "    print((i,g))"
   ]
  },
  {
   "cell_type": "markdown",
   "metadata": {},
   "source": [
    "In                  #   0     1   2   3    4      5   6     7    8     9\n\r",
    "a=torch.FloatTensor([[0.1, -0.1, 10, 50., 25., 12.5, 0, -12.5, -25., -50.]]) # activations\n\r",
    "y=torch.FloatTensor([[ 1.,   1., 0.,  0.,  0.,   0., 0.,   0.,   0.,   0.]]) # labels\n\r",
    "\n\r",
    "For # 0, 2, 6, the garident is correct.\n\r",
    "For # 1, 5, 7, the different is subtle.\n\r",
    "For # 8, 9, there is a noticeable difference.\n\r",
    "For # 3, 4, the gradient is completely wrong ( 0.0 vs 1/10 )."
   ]
  },
  {
   "cell_type": "code",
   "execution_count": null,
   "metadata": {
    "collapsed": true
   },
   "outputs": [],
   "source": []
  }
 ],
 "metadata": {
  "kernelspec": {
   "display_name": "Python 2",
   "language": "python",
   "name": "python2"
  },
  "language_info": {
   "codemirror_mode": {
    "name": "ipython",
    "version": 2
   },
   "file_extension": ".py",
   "mimetype": "text/x-python",
   "name": "python",
   "nbconvert_exporter": "python",
   "pygments_lexer": "ipython2",
   "version": "2.7.5"
  }
 },
 "nbformat": 4,
 "nbformat_minor": 2
}
