{
 "cells": [
  {
   "cell_type": "code",
   "execution_count": 1,
   "metadata": {
    "collapsed": true
   },
   "outputs": [],
   "source": [
    "import torch"
   ]
  },
  {
   "cell_type": "code",
   "execution_count": 2,
   "metadata": {
    "collapsed": true
   },
   "outputs": [],
   "source": [
    "ce=torch.nn.MultiLabelSoftMarginLoss() # Sigmoid + binary cross-entropy\r",
    "sig=torch.nn.Sigmoid()"
   ]
  },
  {
   "cell_type": "code",
   "execution_count": 3,
   "metadata": {},
   "outputs": [],
   "source": [
    "# set up activation & label\r",
    "a=torch.FloatTensor([[0.1, -0.1, 10, 50., 25., 12.5, 0, -12.5, -25., -50.]]) # activations\r",
    "y=torch.FloatTensor([[1.,    1., 0.,  0.,  0.,   0., 0.,   0.,   0.,   0.]]) # labels\r",
    "a=torch.autograd.Variable(a, requires_grad=True)\r",
    "y=torch.autograd.Variable(y, requires_grad=False)"
   ]
  },
  {
   "cell_type": "code",
   "execution_count": 4,
   "metadata": {},
   "outputs": [
    {
     "name": "stdout",
     "output_type": "stream",
     "text": [
      "Variable containing:\r",
      "\r",
      "Columns 0 to 5 \r",
      " 5.2498e-01  4.7502e-01  9.9995e-01  1.0000e+00  1.0000e+00  1.0000e+00\r",
      "\r",
      "Columns 6 to 9 \r",
      " 5.0000e-01  3.7266e-06  1.3888e-11  1.9287e-22\r",
      "[torch.FloatTensor of size 1x10]\r",
      "\r"
     ]
    }
   ],
   "source": [
    "f=sig(a)\r",
    "print(f)"
   ]
  },
  {
   "cell_type": "code",
   "execution_count": 5,
   "metadata": {},
   "outputs": [
    {
     "name": "stdout",
     "output_type": "stream",
     "text": [
      "Variable containing:\r",
      " 7.9836\r",
      "[torch.FloatTensor of size 1]\r",
      "\r"
     ]
    }
   ],
   "source": [
    "ce.zero_grad()\r",
    "l=ce(a,y)\r",
    "print(l)"
   ]
  },
  {
   "cell_type": "code",
   "execution_count": 6,
   "metadata": {},
   "outputs": [],
   "source": [
    "l.backward() # obtained gradient"
   ]
  },
  {
   "cell_type": "code",
   "execution_count": 9,
   "metadata": {},
   "outputs": [
    {
     "name": "stdout",
     "output_type": "stream",
     "text": [
      "(0, -0.04750208184123039)\r",
      "(1, -0.05249791964888573)\r",
      "(2, 0.099995456635952)\r",
      "(3, 0.0)\r",
      "(4, 0.0)\r",
      "(5, 0.09999960660934448)\r",
      "(6, 0.05000000074505806)\r",
      "(7, 3.726638340140198e-07)\r",
      "(8, 1.2955112243390188e-12)\r",
      "(9, 3.720075951787754e-33)\r"
     ]
    }
   ],
   "source": [
    "for i,g in enumerate(a.grad.data[0]): # obtained gradient\r",
    "    print((i,g))"
   ]
  },
  {
   "cell_type": "code",
   "execution_count": 10,
   "metadata": {},
   "outputs": [
    {
     "name": "stdout",
     "output_type": "stream",
     "text": [
      "(0, -0.04750208184123039)\r",
      "(1, -0.05249791592359543)\r",
      "(2, 0.099995456635952)\r",
      "(3, 0.10000000149011612)\r",
      "(4, 0.10000000149011612)\r",
      "(5, 0.09999962151050568)\r",
      "(6, 0.05000000074505806)\r",
      "(7, 3.726639192791481e-07)\r",
      "(8, 1.3887943529564128e-12)\r",
      "(9, 1.9287499249081747e-23)\r"
     ]
    }
   ],
   "source": [
    "ans=(f-y)/f.size(1) # correct answer\r",
    "for i,g in enumerate(ans.data[0]):\r",
    "    print((i,g))"
   ]
  },
  {
   "cell_type": "markdown",
   "metadata": {},
   "source": [
    "In                  #   0     1   2   3    4      5   6     7    8     9\r",
    "a=torch.FloatTensor([[0.1, -0.1, 10, 50., 25., 12.5, 0, -12.5, -25., -50.]]) # activations\r",
    "y=torch.FloatTensor([[ 1.,   1., 0.,  0.,  0.,   0., 0.,   0.,   0.,   0.]]) # labels\r",
    "\r",
    "For # 0, 2, 6, the garident is correct. \r",
    "For # 1, 5, 7, the different is subtle. \r",
    "For # 8, 9, there is a noticable difference. \r",
    "For # 3, 4, the gradient is completely wrong ( 0.0 vs 1/10 ). "
   ]
  },
  {
   "cell_type": "code",
   "execution_count": null,
   "metadata": {
    "collapsed": true
   },
   "outputs": [],
   "source": []
  }
 ],
 "metadata": {
  "kernelspec": {
   "display_name": "Python 2",
   "language": "python",
   "name": "python2"
  },
  "language_info": {
   "codemirror_mode": {
    "name": "ipython",
    "version": 2
   },
   "file_extension": ".py",
   "mimetype": "text/x-python",
   "name": "python",
   "nbconvert_exporter": "python",
   "pygments_lexer": "ipython2",
   "version": "2.7.5"
  }
 },
 "nbformat": 4,
 "nbformat_minor": 2
}
