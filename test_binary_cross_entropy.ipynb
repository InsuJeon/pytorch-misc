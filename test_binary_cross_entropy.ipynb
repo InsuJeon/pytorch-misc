{
 "cells": [
  {
   "cell_type": "code",
   "execution_count": 1,
   "metadata": {
    "collapsed": true
   },
   "outputs": [],
   "source": [
    "import torch"
   ]
  },
  {
   "cell_type": "code",
   "execution_count": 2,
   "metadata": {
    "collapsed": true
   },
   "outputs": [],
   "source": [
    "ce=torch.nn.MultiLabelSoftMarginLoss() # Sigmoid + binary cross-entropy\n",
    "sig=torch.nn.Sigmoid()"
   ]
  },
  {
   "cell_type": "code",
   "execution_count": 3,
   "metadata": {},
   "outputs": [],
   "source": [
    "# set up activation & label\n",
    "a=torch.FloatTensor([[0.1, -0.1, 10, 50., -25., -50.]]) # activations\n",
    "y=torch.FloatTensor([[1., 1., 0., 0., 0., 0.]]) # labels\n",
    "a=torch.autograd.Variable(a, requires_grad=True)\n",
    "y=torch.autograd.Variable(y, requires_grad=False)"
   ]
  },
  {
   "cell_type": "code",
   "execution_count": 5,
   "metadata": {},
   "outputs": [
    {
     "name": "stdout",
     "output_type": "stream",
     "text": [
      "Variable containing:\n",
      " 5.2498e-01  4.7502e-01  9.9995e-01  1.0000e+00  1.3888e-11  1.9287e-22\n",
      "[torch.FloatTensor of size 1x6]\n",
      "\n"
     ]
    }
   ],
   "source": [
    "f=sig(a)\n",
    "print(f)"
   ]
  },
  {
   "cell_type": "code",
   "execution_count": 6,
   "metadata": {},
   "outputs": [
    {
     "name": "stdout",
     "output_type": "stream",
     "text": [
      "Variable containing:\n",
      " 6.5032\n",
      "[torch.FloatTensor of size 1]\n",
      "\n"
     ]
    }
   ],
   "source": [
    "ce.zero_grad()\n",
    "l=ce(a,y)\n",
    "print(l)"
   ]
  },
  {
   "cell_type": "code",
   "execution_count": 7,
   "metadata": {},
   "outputs": [],
   "source": [
    "l.backward() # obtained gradient"
   ]
  },
  {
   "cell_type": "code",
   "execution_count": 13,
   "metadata": {},
   "outputs": [
    {
     "name": "stdout",
     "output_type": "stream",
     "text": [
      "-0.0791701376438\n",
      "-0.0874965339899\n",
      "0.166659101844\n",
      "0.0\n",
      "2.15918559074e-12\n",
      "6.20012658631e-33\n"
     ]
    }
   ],
   "source": [
    "for i in a.grad.data[0]: # obtained gradient\n",
    "    print(i)"
   ]
  },
  {
   "cell_type": "code",
   "execution_count": 15,
   "metadata": {},
   "outputs": [
    {
     "name": "stdout",
     "output_type": "stream",
     "text": [
      "-0.0791701376438\n",
      "-0.0874965265393\n",
      "0.166659101844\n",
      "0.166666671634\n",
      "2.31465736335e-12\n",
      "3.21458326077e-23\n"
     ]
    }
   ],
   "source": [
    "ans=(f-y)/f.size(1) # correct answer\n",
    "for i in ans.data[0]:\n",
    "    print(i)"
   ]
  },
  {
   "cell_type": "markdown",
   "metadata": {},
   "source": [
    "For # 1 (a=0.1, y=1) and # 3 (a=10, y=0), the garident is correct.\n",
    "For # 2 (a=-0.1, y=1), the different is subtle.\n",
    "For # 5 (a=-25, y=0) and # 6 (a=-50, y=0), there is a noticable difference.\n",
    "For # 4 (a=50, y=0), the gradient is completely wrong ( 0.0 vs 1/6 )."
   ]
  }
 ],
 "metadata": {
  "kernelspec": {
   "display_name": "Python 2",
   "language": "python",
   "name": "python2"
  },
  "language_info": {
   "codemirror_mode": {
    "name": "ipython",
    "version": 2
   },
   "file_extension": ".py",
   "mimetype": "text/x-python",
   "name": "python",
   "nbconvert_exporter": "python",
   "pygments_lexer": "ipython2",
   "version": "2.7.5"
  }
 },
 "nbformat": 4,
 "nbformat_minor": 2
}
