{
 "cells": [
  {
   "cell_type": "code",
   "execution_count": 1,
   "metadata": {
    "collapsed": true
   },
   "outputs": [],
   "source": [
    "import tensorflow as tf"
   ]
  },
  {
   "cell_type": "code",
   "execution_count": 2,
   "metadata": {
    "collapsed": true
   },
   "outputs": [],
   "source": [
    "batch_size = 1"
   ]
  },
  {
   "cell_type": "code",
   "execution_count": 5,
   "metadata": {},
   "outputs": [],
   "source": [
    "data = tf.placeholder(tf.float32,shape=(batch_size,10))\n",
    "label = tf.placeholder(tf.float32,shape=(batch_size,10))\n",
    "loss = tf.nn.sigmoid_cross_entropy_with_logits(labels=label,logits=data)"
   ]
  },
  {
   "cell_type": "code",
   "execution_count": 6,
   "metadata": {},
   "outputs": [],
   "source": [
    "grad = tf.gradients(loss,[data])"
   ]
  },
  {
   "cell_type": "code",
   "execution_count": 13,
   "metadata": {
    "collapsed": true
   },
   "outputs": [],
   "source": [
    "a=[[0.1, -0.1, 10, 50., 25., 12.5, 0, -12.5, -25., -50.]]\n",
    "y=[[1.,    1., 0.,  0.,  0.,   0., 0.,   0.,   0.,   0.]]"
   ]
  },
  {
   "cell_type": "code",
   "execution_count": 14,
   "metadata": {},
   "outputs": [
    {
     "data": {
      "text/plain": [
       "[[0.1, -0.1, 10, 50.0, 25.0, 12.5, 0, -12.5, -25.0, -50.0]]"
      ]
     },
     "execution_count": 14,
     "metadata": {},
     "output_type": "execute_result"
    }
   ],
   "source": [
    "a"
   ]
  },
  {
   "cell_type": "code",
   "execution_count": 15,
   "metadata": {
    "collapsed": true
   },
   "outputs": [],
   "source": [
    "with tf.Session() as sess:\n",
    "    l,g=sess.run((loss,grad),feed_dict={data: a,label: y})"
   ]
  },
  {
   "cell_type": "code",
   "execution_count": 16,
   "metadata": {},
   "outputs": [
    {
     "name": "stdout",
     "output_type": "stream",
     "text": [
      "[[  6.44396663e-01   7.44396687e-01   1.00000458e+01   5.00000000e+01\n",
      "    2.50000000e+01   1.25000038e+01   6.93147182e-01   3.72664636e-06\n",
      "    1.38879437e-11   1.92874989e-22]]\n"
     ]
    }
   ],
   "source": [
    "print(l)"
   ]
  },
  {
   "cell_type": "code",
   "execution_count": 17,
   "metadata": {},
   "outputs": [
    {
     "name": "stdout",
     "output_type": "stream",
     "text": [
      "[array([[ -4.75020796e-01,  -5.24979234e-01,   9.99954581e-01,\n",
      "          1.00000000e+00,   1.00000000e+00,   9.99996245e-01,\n",
      "          5.00000000e-01,   3.72663953e-06,   1.38879437e-11,\n",
      "          1.92874989e-22]], dtype=float32)]\n"
     ]
    }
   ],
   "source": [
    "print(g)"
   ]
  }
 ],
 "metadata": {
  "kernelspec": {
   "display_name": "Python 2",
   "language": "python",
   "name": "python2"
  },
  "language_info": {
   "codemirror_mode": {
    "name": "ipython",
    "version": 2
   },
   "file_extension": ".py",
   "mimetype": "text/x-python",
   "name": "python",
   "nbconvert_exporter": "python",
   "pygments_lexer": "ipython2",
   "version": "2.7.5"
  }
 },
 "nbformat": 4,
 "nbformat_minor": 2
}
